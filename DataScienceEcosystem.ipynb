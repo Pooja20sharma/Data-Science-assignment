{
 "cells": [
  {
   "cell_type": "markdown",
   "id": "c81c78f5",
   "metadata": {},
   "source": [
    "# Data Science Tools and Ecosystem"
   ]
  },
  {
   "cell_type": "markdown",
   "id": "fd9a4758",
   "metadata": {},
   "source": [
    "In this notebook, Data Science Tools and Ecosystem are summarized."
   ]
  },
  {
   "cell_type": "markdown",
   "id": "cf053ea7",
   "metadata": {},
   "source": [
    "<b>Objectives:</b>\n",
    "<Ul>\n",
    "<li>understand the foundational concepts of data science, including its role and applications in various industries.</li>\n",
    "<li>Learn key programming languages (e.g., Python, R) and tools used in data analysis and modeling.</li>\n",
    "<li>Gain knowledge of statistics, probability, and machine learning fundamentals.</li>\n",
    "<li>Understand the principles of data collection, cleaning, and preprocessing.</li>\n",
    "<li>Familiarize with big data frameworks and cloud platforms for handling large-scale datasets.</li>\n",
    "</ul>"
   ]
  },
  {
   "cell_type": "markdown",
   "id": "fad2c240",
   "metadata": {},
   "source": [
    "Some of the popular languages that Data Scientists use are:\n",
    "<ol>\n",
    "    <li>Python</li>\n",
    "    <li>R</li>\n",
    "    <li>Julia</li>\n",
    "    </ol"
   ]
  },
  {
   "cell_type": "markdown",
   "id": "ffe1048b",
   "metadata": {},
   "source": [
    "Some of the commonly used libraries used by Data Scientists include:\n",
    "<ol>\n",
    "    <li>matplotlib</li>\n",
    "    <li>seaborn</li>\n",
    "    <li>caret</li>\n",
    "    <li>scipy</li>\n",
    "    </ol>"
   ]
  },
  {
   "cell_type": "markdown",
   "id": "4aa9bb89",
   "metadata": {},
   "source": [
    "<table width=\"20%\" align=\"left\">\n",
    "    <tr><th>Data Science Tools</th></tr>\n",
    "    <tr><td>Jupyter Notebook</td></tr>\n",
    "    <tr><td>Visual Studio Code (VS Code)</td></tr>\n",
    "    <tr><td>Spyder</td></tr>\n",
    "</table>"
   ]
  },
  {
   "cell_type": "markdown",
   "id": "57dae2f4",
   "metadata": {},
   "source": [
    "### Below are a few examples of evaluating arithmetic expressions in Python"
   ]
  },
  {
   "cell_type": "code",
   "execution_count": 3,
   "id": "49998546",
   "metadata": {},
   "outputs": [
    {
     "data": {
      "text/plain": [
       "17"
      ]
     },
     "execution_count": 3,
     "metadata": {},
     "output_type": "execute_result"
    }
   ],
   "source": [
    "#This a simple arithmetic expression to mutiply then add integers\n",
    "\n",
    "(3*4)+5"
   ]
  },
  {
   "cell_type": "code",
   "execution_count": 4,
   "id": "15866026",
   "metadata": {},
   "outputs": [
    {
     "data": {
      "text/plain": [
       "3.3333333333333335"
      ]
     },
     "execution_count": 4,
     "metadata": {},
     "output_type": "execute_result"
    }
   ],
   "source": [
    "#This will convert 200 minutes to hours by diving by 60\n",
    "\n",
    "200/60"
   ]
  },
  {
   "cell_type": "markdown",
   "id": "cfc23b9b",
   "metadata": {},
   "source": [
    "## Author\n",
    "Pooja Sharma"
   ]
  },
  {
   "cell_type": "code",
   "execution_count": null,
   "id": "7d6fdce7",
   "metadata": {},
   "outputs": [],
   "source": []
  }
 ],
 "metadata": {
  "kernelspec": {
   "display_name": "Python 3 (ipykernel)",
   "language": "python",
   "name": "python3"
  },
  "language_info": {
   "codemirror_mode": {
    "name": "ipython",
    "version": 3
   },
   "file_extension": ".py",
   "mimetype": "text/x-python",
   "name": "python",
   "nbconvert_exporter": "python",
   "pygments_lexer": "ipython3",
   "version": "3.9.13"
  }
 },
 "nbformat": 4,
 "nbformat_minor": 5
}
